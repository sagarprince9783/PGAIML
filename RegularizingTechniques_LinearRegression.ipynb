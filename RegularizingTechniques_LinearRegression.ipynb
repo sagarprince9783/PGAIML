{
 "cells": [
  {
   "cell_type": "markdown",
   "metadata": {},
   "source": [
    "## creating a simple Linear regression model over the diabetes dataset\n",
    "## by default Linear regression model is also called OLS model\n",
    "## OLS --> Ordinary least Squares Model"
   ]
  },
  {
   "cell_type": "code",
   "execution_count": 18,
   "metadata": {},
   "outputs": [],
   "source": [
    "import numpy as np\n",
    "import pandas as pd\n",
    "import matplotlib.pylab as plt\n",
    "%matplotlib inline\n"
   ]
  },
  {
   "cell_type": "code",
   "execution_count": 19,
   "metadata": {},
   "outputs": [],
   "source": [
    "from sklearn import datasets\n",
    "diabetes=datasets.load_diabetes()"
   ]
  },
  {
   "cell_type": "code",
   "execution_count": 20,
   "metadata": {},
   "outputs": [],
   "source": [
    "df=pd.DataFrame(diabetes.data)"
   ]
  },
  {
   "cell_type": "code",
   "execution_count": 21,
   "metadata": {},
   "outputs": [],
   "source": [
    "df.columns=diabetes.feature_names"
   ]
  },
  {
   "cell_type": "code",
   "execution_count": 22,
   "metadata": {},
   "outputs": [
    {
     "data": {
      "text/html": [
       "<div>\n",
       "<style scoped>\n",
       "    .dataframe tbody tr th:only-of-type {\n",
       "        vertical-align: middle;\n",
       "    }\n",
       "\n",
       "    .dataframe tbody tr th {\n",
       "        vertical-align: top;\n",
       "    }\n",
       "\n",
       "    .dataframe thead th {\n",
       "        text-align: right;\n",
       "    }\n",
       "</style>\n",
       "<table border=\"1\" class=\"dataframe\">\n",
       "  <thead>\n",
       "    <tr style=\"text-align: right;\">\n",
       "      <th></th>\n",
       "      <th>age</th>\n",
       "      <th>sex</th>\n",
       "      <th>bmi</th>\n",
       "      <th>bp</th>\n",
       "      <th>s1</th>\n",
       "      <th>s2</th>\n",
       "      <th>s3</th>\n",
       "      <th>s4</th>\n",
       "      <th>s5</th>\n",
       "      <th>s6</th>\n",
       "      <th>diabetes_measure</th>\n",
       "    </tr>\n",
       "  </thead>\n",
       "  <tbody>\n",
       "    <tr>\n",
       "      <th>0</th>\n",
       "      <td>0.038076</td>\n",
       "      <td>0.050680</td>\n",
       "      <td>0.061696</td>\n",
       "      <td>0.021872</td>\n",
       "      <td>-0.044223</td>\n",
       "      <td>-0.034821</td>\n",
       "      <td>-0.043401</td>\n",
       "      <td>-0.002592</td>\n",
       "      <td>0.019908</td>\n",
       "      <td>-0.017646</td>\n",
       "      <td>151.0</td>\n",
       "    </tr>\n",
       "    <tr>\n",
       "      <th>1</th>\n",
       "      <td>-0.001882</td>\n",
       "      <td>-0.044642</td>\n",
       "      <td>-0.051474</td>\n",
       "      <td>-0.026328</td>\n",
       "      <td>-0.008449</td>\n",
       "      <td>-0.019163</td>\n",
       "      <td>0.074412</td>\n",
       "      <td>-0.039493</td>\n",
       "      <td>-0.068330</td>\n",
       "      <td>-0.092204</td>\n",
       "      <td>75.0</td>\n",
       "    </tr>\n",
       "    <tr>\n",
       "      <th>2</th>\n",
       "      <td>0.085299</td>\n",
       "      <td>0.050680</td>\n",
       "      <td>0.044451</td>\n",
       "      <td>-0.005671</td>\n",
       "      <td>-0.045599</td>\n",
       "      <td>-0.034194</td>\n",
       "      <td>-0.032356</td>\n",
       "      <td>-0.002592</td>\n",
       "      <td>0.002864</td>\n",
       "      <td>-0.025930</td>\n",
       "      <td>141.0</td>\n",
       "    </tr>\n",
       "    <tr>\n",
       "      <th>3</th>\n",
       "      <td>-0.089063</td>\n",
       "      <td>-0.044642</td>\n",
       "      <td>-0.011595</td>\n",
       "      <td>-0.036656</td>\n",
       "      <td>0.012191</td>\n",
       "      <td>0.024991</td>\n",
       "      <td>-0.036038</td>\n",
       "      <td>0.034309</td>\n",
       "      <td>0.022692</td>\n",
       "      <td>-0.009362</td>\n",
       "      <td>206.0</td>\n",
       "    </tr>\n",
       "    <tr>\n",
       "      <th>4</th>\n",
       "      <td>0.005383</td>\n",
       "      <td>-0.044642</td>\n",
       "      <td>-0.036385</td>\n",
       "      <td>0.021872</td>\n",
       "      <td>0.003935</td>\n",
       "      <td>0.015596</td>\n",
       "      <td>0.008142</td>\n",
       "      <td>-0.002592</td>\n",
       "      <td>-0.031991</td>\n",
       "      <td>-0.046641</td>\n",
       "      <td>135.0</td>\n",
       "    </tr>\n",
       "  </tbody>\n",
       "</table>\n",
       "</div>"
      ],
      "text/plain": [
       "        age       sex       bmi        bp        s1        s2        s3  \\\n",
       "0  0.038076  0.050680  0.061696  0.021872 -0.044223 -0.034821 -0.043401   \n",
       "1 -0.001882 -0.044642 -0.051474 -0.026328 -0.008449 -0.019163  0.074412   \n",
       "2  0.085299  0.050680  0.044451 -0.005671 -0.045599 -0.034194 -0.032356   \n",
       "3 -0.089063 -0.044642 -0.011595 -0.036656  0.012191  0.024991 -0.036038   \n",
       "4  0.005383 -0.044642 -0.036385  0.021872  0.003935  0.015596  0.008142   \n",
       "\n",
       "         s4        s5        s6  diabetes_measure  \n",
       "0 -0.002592  0.019908 -0.017646             151.0  \n",
       "1 -0.039493 -0.068330 -0.092204              75.0  \n",
       "2 -0.002592  0.002864 -0.025930             141.0  \n",
       "3  0.034309  0.022692 -0.009362             206.0  \n",
       "4 -0.002592 -0.031991 -0.046641             135.0  "
      ]
     },
     "execution_count": 22,
     "metadata": {},
     "output_type": "execute_result"
    }
   ],
   "source": [
    "df['diabetes_measure']=diabetes.target\n",
    "df.head()"
   ]
  },
  {
   "cell_type": "code",
   "execution_count": 23,
   "metadata": {},
   "outputs": [
    {
     "data": {
      "text/plain": [
       "(442, 11)"
      ]
     },
     "execution_count": 23,
     "metadata": {},
     "output_type": "execute_result"
    }
   ],
   "source": [
    "df.shape"
   ]
  },
  {
   "cell_type": "code",
   "execution_count": 24,
   "metadata": {},
   "outputs": [],
   "source": [
    "import warnings \n",
    "warnings.filterwarnings(\"ignore\",category=FutureWarning)"
   ]
  },
  {
   "cell_type": "code",
   "execution_count": 25,
   "metadata": {},
   "outputs": [],
   "source": [
    "X=df.iloc[:,: -1]\n",
    "y=df.iloc[:,-1]\n"
   ]
  },
  {
   "cell_type": "markdown",
   "metadata": {},
   "source": [
    "Creating a Single var OLS model"
   ]
  },
  {
   "cell_type": "code",
   "execution_count": 26,
   "metadata": {},
   "outputs": [],
   "source": [
    "bmi=X.iloc[:,2]\n",
    "bmi=bmi[ : ,np.newaxis]\n",
    "\n",
    "y=df.iloc[:,-1]\n",
    "y=y[ : ,np.newaxis]\n",
    "from sklearn.linear_model import LinearRegression\n",
    "simple_lr=LinearRegression().fit(bmi,y)\n",
    "predicted_y=simple_lr.predict(bmi)"
   ]
  },
  {
   "cell_type": "code",
   "execution_count": 27,
   "metadata": {},
   "outputs": [],
   "source": [
    "#predicted_y"
   ]
  },
  {
   "cell_type": "code",
   "execution_count": 28,
   "metadata": {},
   "outputs": [
    {
     "data": {
      "image/png": "[encoded data removed]",
      "text/plain": [
       "<Figure size 720x432 with 1 Axes>"
      ]
     },
     "metadata": {
      "needs_background": "light"
     },
     "output_type": "display_data"
    }
   ],
   "source": [
    "plt.figure(figsize=(10,6))\n",
    "plt.scatter(bmi,y)\n",
    "plt.plot(bmi,predicted_y,c='r')\n",
    "plt.title(\"Scatter plot and a simple Linear Regresion Model\")\n",
    "plt.ylabel(\"y\")\n",
    "plt.xlabel(\"bmi\")\n",
    "plt.show()"
   ]
  },
  {
   "cell_type": "code",
   "execution_count": 29,
   "metadata": {},
   "outputs": [
    {
     "name": "stdout",
     "output_type": "stream",
     "text": [
      "[-3887.88568862 -3723.13170703 -4213.18191102 -3909.35846549\n",
      " -3896.1811731  -3774.68344227 -4571.55641957 -2833.03811406\n",
      " -5037.63956214 -3222.53341777]\n"
     ]
    }
   ],
   "source": [
    "from sklearn.model_selection import cross_val_score\n",
    "mse=cross_val_score(simple_lr,bmi,y,scoring='neg_mean_squared_error',cv=10)\n",
    "print(mse)"
   ]
  },
  {
   "cell_type": "code",
   "execution_count": 30,
   "metadata": {},
   "outputs": [
    {
     "name": "stdout",
     "output_type": "stream",
     "text": [
      "-3906.91899010684\n"
     ]
    }
   ],
   "source": [
    "print(mse.mean())\n",
    "#ideal value for mse would be 0"
   ]
  },
  {
   "cell_type": "markdown",
   "metadata": {},
   "source": [
    "Multiple Linear Regression"
   ]
  },
  {
   "cell_type": "code",
   "execution_count": 31,
   "metadata": {},
   "outputs": [
    {
     "name": "stdout",
     "output_type": "stream",
     "text": [
      "[-2533.84810936 -2870.76771141 -3512.7235093  -2759.22712936\n",
      " -3555.67794309 -2900.38041212 -3696.28187783 -2282.27959795\n",
      " -4122.9399814  -1769.68405657]\n",
      "-3000.3810328390514\n"
     ]
    }
   ],
   "source": [
    "multiple_lr=LinearRegression().fit(X,y)\n",
    "from sklearn.model_selection import cross_val_score\n",
    "mse=cross_val_score(multiple_lr,X,y,scoring='neg_mean_squared_error',cv=10)\n",
    "print(mse)\n",
    "print(mse.mean())"
   ]
  },
  {
   "cell_type": "code",
   "execution_count": 32,
   "metadata": {},
   "outputs": [
    {
     "data": {
      "text/plain": [
       "array([ -10.01219782, -239.81908937,  519.83978679,  324.39042769,\n",
       "       -792.18416163,  476.74583782,  101.04457032,  177.06417623,\n",
       "        751.27932109,   67.62538639])"
      ]
     },
     "execution_count": 32,
     "metadata": {},
     "output_type": "execute_result"
    }
   ],
   "source": [
    "multiple_linear_coeffs=multiple_lr.coef_[0]\n",
    "multiple_linear_coeffs"
   ]
  },
  {
   "cell_type": "code",
   "execution_count": 34,
   "metadata": {},
   "outputs": [
    {
     "data": {
      "image/png": "[encoded data removed]",
      "text/plain": [
       "<Figure size 720x432 with 1 Axes>"
      ]
     },
     "metadata": {
      "needs_background": "light"
     },
     "output_type": "display_data"
    }
   ],
   "source": [
    "feature_names=df.drop('diabetes_measure',axis=1).columns\n",
    "plt.figure(figsize=(10,6))\n",
    "plt.plot(range(len(multiple_linear_coeffs)),multiple_linear_coeffs)\n",
    "plt.axhline(0,color='r',linestyle='solid')\n",
    "plt.xticks(range(len(feature_names)),feature_names,rotation=50)\n",
    "plt.title(\"Coefficients for multiple Linear Regression\")\n",
    "plt.ylabel(\"Coefficients\")\n",
    "plt.xlabel(\"features\")\n",
    "plt.show()"
   ]
  },
  {
   "cell_type": "code",
   "execution_count": 38,
   "metadata": {},
   "outputs": [
    {
     "data": {
      "text/html": [
       "<style  type=\"text/css\" >\n",
       "#T_f564166a_4b6d_11ed_b35e_0242ac100011row0_col0,#T_f564166a_4b6d_11ed_b35e_0242ac100011row1_col1,#T_f564166a_4b6d_11ed_b35e_0242ac100011row2_col2,#T_f564166a_4b6d_11ed_b35e_0242ac100011row3_col3,#T_f564166a_4b6d_11ed_b35e_0242ac100011row4_col4,#T_f564166a_4b6d_11ed_b35e_0242ac100011row5_col5,#T_f564166a_4b6d_11ed_b35e_0242ac100011row6_col6,#T_f564166a_4b6d_11ed_b35e_0242ac100011row7_col7,#T_f564166a_4b6d_11ed_b35e_0242ac100011row8_col8,#T_f564166a_4b6d_11ed_b35e_0242ac100011row9_col9{\n",
       "            background-color:  #b40426;\n",
       "            color:  #f1f1f1;\n",
       "        }#T_f564166a_4b6d_11ed_b35e_0242ac100011row0_col1{\n",
       "            background-color:  #c0d4f5;\n",
       "            color:  #000000;\n",
       "        }#T_f564166a_4b6d_11ed_b35e_0242ac100011row0_col2{\n",
       "            background-color:  #c1d4f4;\n",
       "            color:  #000000;\n",
       "        }#T_f564166a_4b6d_11ed_b35e_0242ac100011row0_col3{\n",
       "            background-color:  #cbd8ee;\n",
       "            color:  #000000;\n",
       "        }#T_f564166a_4b6d_11ed_b35e_0242ac100011row0_col4,#T_f564166a_4b6d_11ed_b35e_0242ac100011row1_col0{\n",
       "            background-color:  #86a9fc;\n",
       "            color:  #000000;\n",
       "        }#T_f564166a_4b6d_11ed_b35e_0242ac100011row0_col5{\n",
       "            background-color:  #aec9fc;\n",
       "            color:  #000000;\n",
       "        }#T_f564166a_4b6d_11ed_b35e_0242ac100011row0_col6,#T_f564166a_4b6d_11ed_b35e_0242ac100011row2_col5,#T_f564166a_4b6d_11ed_b35e_0242ac100011row3_col0{\n",
       "            background-color:  #bad0f8;\n",
       "            color:  #000000;\n",
       "        }#T_f564166a_4b6d_11ed_b35e_0242ac100011row0_col7,#T_f564166a_4b6d_11ed_b35e_0242ac100011row7_col9{\n",
       "            background-color:  #e7d7ce;\n",
       "            color:  #000000;\n",
       "        }#T_f564166a_4b6d_11ed_b35e_0242ac100011row0_col8{\n",
       "            background-color:  #d7dce3;\n",
       "            color:  #000000;\n",
       "        }#T_f564166a_4b6d_11ed_b35e_0242ac100011row0_col9,#T_f564166a_4b6d_11ed_b35e_0242ac100011row3_col1,#T_f564166a_4b6d_11ed_b35e_0242ac100011row4_col2{\n",
       "            background-color:  #cfdaea;\n",
       "            color:  #000000;\n",
       "        }#T_f564166a_4b6d_11ed_b35e_0242ac100011row1_col2{\n",
       "            background-color:  #aac7fd;\n",
       "            color:  #000000;\n",
       "        }#T_f564166a_4b6d_11ed_b35e_0242ac100011row1_col3,#T_f564166a_4b6d_11ed_b35e_0242ac100011row4_col3{\n",
       "            background-color:  #b2ccfb;\n",
       "            color:  #000000;\n",
       "        }#T_f564166a_4b6d_11ed_b35e_0242ac100011row1_col4,#T_f564166a_4b6d_11ed_b35e_0242ac100011row6_col0,#T_f564166a_4b6d_11ed_b35e_0242ac100011row6_col1,#T_f564166a_4b6d_11ed_b35e_0242ac100011row6_col2,#T_f564166a_4b6d_11ed_b35e_0242ac100011row6_col3,#T_f564166a_4b6d_11ed_b35e_0242ac100011row6_col5,#T_f564166a_4b6d_11ed_b35e_0242ac100011row6_col7,#T_f564166a_4b6d_11ed_b35e_0242ac100011row6_col8,#T_f564166a_4b6d_11ed_b35e_0242ac100011row6_col9,#T_f564166a_4b6d_11ed_b35e_0242ac100011row7_col6{\n",
       "            background-color:  #3b4cc0;\n",
       "            color:  #f1f1f1;\n",
       "        }#T_f564166a_4b6d_11ed_b35e_0242ac100011row1_col5{\n",
       "            background-color:  #98b9ff;\n",
       "            color:  #000000;\n",
       "        }#T_f564166a_4b6d_11ed_b35e_0242ac100011row1_col6{\n",
       "            background-color:  #7da0f9;\n",
       "            color:  #000000;\n",
       "        }#T_f564166a_4b6d_11ed_b35e_0242ac100011row1_col7{\n",
       "            background-color:  #f3c7b1;\n",
       "            color:  #000000;\n",
       "        }#T_f564166a_4b6d_11ed_b35e_0242ac100011row1_col8{\n",
       "            background-color:  #bed2f6;\n",
       "            color:  #000000;\n",
       "        }#T_f564166a_4b6d_11ed_b35e_0242ac100011row1_col9,#T_f564166a_4b6d_11ed_b35e_0242ac100011row5_col1{\n",
       "            background-color:  #b9d0f9;\n",
       "            color:  #000000;\n",
       "        }#T_f564166a_4b6d_11ed_b35e_0242ac100011row2_col0{\n",
       "            background-color:  #89acfd;\n",
       "            color:  #000000;\n",
       "        }#T_f564166a_4b6d_11ed_b35e_0242ac100011row2_col1{\n",
       "            background-color:  #abc8fd;\n",
       "            color:  #000000;\n",
       "        }#T_f564166a_4b6d_11ed_b35e_0242ac100011row2_col3,#T_f564166a_4b6d_11ed_b35e_0242ac100011row8_col3{\n",
       "            background-color:  #d9dce1;\n",
       "            color:  #000000;\n",
       "        }#T_f564166a_4b6d_11ed_b35e_0242ac100011row2_col4{\n",
       "            background-color:  #82a6fb;\n",
       "            color:  #000000;\n",
       "        }#T_f564166a_4b6d_11ed_b35e_0242ac100011row2_col6,#T_f564166a_4b6d_11ed_b35e_0242ac100011row3_col4{\n",
       "            background-color:  #80a3fa;\n",
       "            color:  #000000;\n",
       "        }#T_f564166a_4b6d_11ed_b35e_0242ac100011row2_col7{\n",
       "            background-color:  #f7b99e;\n",
       "            color:  #000000;\n",
       "        }#T_f564166a_4b6d_11ed_b35e_0242ac100011row2_col8{\n",
       "            background-color:  #f2cab5;\n",
       "            color:  #000000;\n",
       "        }#T_f564166a_4b6d_11ed_b35e_0242ac100011row2_col9,#T_f564166a_4b6d_11ed_b35e_0242ac100011row3_col9{\n",
       "            background-color:  #e2dad5;\n",
       "            color:  #000000;\n",
       "        }#T_f564166a_4b6d_11ed_b35e_0242ac100011row3_col2{\n",
       "            background-color:  #ead4c8;\n",
       "            color:  #000000;\n",
       "        }#T_f564166a_4b6d_11ed_b35e_0242ac100011row3_col5{\n",
       "            background-color:  #a5c3fe;\n",
       "            color:  #000000;\n",
       "        }#T_f564166a_4b6d_11ed_b35e_0242ac100011row3_col6,#T_f564166a_4b6d_11ed_b35e_0242ac100011row8_col0{\n",
       "            background-color:  #a6c4fe;\n",
       "            color:  #000000;\n",
       "        }#T_f564166a_4b6d_11ed_b35e_0242ac100011row3_col7,#T_f564166a_4b6d_11ed_b35e_0242ac100011row7_col2{\n",
       "            background-color:  #edd1c2;\n",
       "            color:  #000000;\n",
       "        }#T_f564166a_4b6d_11ed_b35e_0242ac100011row3_col8{\n",
       "            background-color:  #ecd3c5;\n",
       "            color:  #000000;\n",
       "        }#T_f564166a_4b6d_11ed_b35e_0242ac100011row4_col0,#T_f564166a_4b6d_11ed_b35e_0242ac100011row5_col3,#T_f564166a_4b6d_11ed_b35e_0242ac100011row5_col6{\n",
       "            background-color:  #a2c1ff;\n",
       "            color:  #000000;\n",
       "        }#T_f564166a_4b6d_11ed_b35e_0242ac100011row4_col1{\n",
       "            background-color:  #9ebeff;\n",
       "            color:  #000000;\n",
       "        }#T_f564166a_4b6d_11ed_b35e_0242ac100011row4_col5{\n",
       "            background-color:  #d24b40;\n",
       "            color:  #f1f1f1;\n",
       "        }#T_f564166a_4b6d_11ed_b35e_0242ac100011row4_col6{\n",
       "            background-color:  #d1dae9;\n",
       "            color:  #000000;\n",
       "        }#T_f564166a_4b6d_11ed_b35e_0242ac100011row4_col7{\n",
       "            background-color:  #f59f80;\n",
       "            color:  #000000;\n",
       "        }#T_f564166a_4b6d_11ed_b35e_0242ac100011row4_col8{\n",
       "            background-color:  #f7bca1;\n",
       "            color:  #000000;\n",
       "        }#T_f564166a_4b6d_11ed_b35e_0242ac100011row4_col9{\n",
       "            background-color:  #d5dbe5;\n",
       "            color:  #000000;\n",
       "        }#T_f564166a_4b6d_11ed_b35e_0242ac100011row5_col0{\n",
       "            background-color:  #96b7ff;\n",
       "            color:  #000000;\n",
       "        }#T_f564166a_4b6d_11ed_b35e_0242ac100011row5_col2{\n",
       "            background-color:  #d2dbe8;\n",
       "            color:  #000000;\n",
       "        }#T_f564166a_4b6d_11ed_b35e_0242ac100011row5_col4{\n",
       "            background-color:  #d85646;\n",
       "            color:  #000000;\n",
       "        }#T_f564166a_4b6d_11ed_b35e_0242ac100011row5_col7{\n",
       "            background-color:  #ed8366;\n",
       "            color:  #000000;\n",
       "        }#T_f564166a_4b6d_11ed_b35e_0242ac100011row5_col8{\n",
       "            background-color:  #e0dbd8;\n",
       "            color:  #000000;\n",
       "        }#T_f564166a_4b6d_11ed_b35e_0242ac100011row5_col9{\n",
       "            background-color:  #cdd9ec;\n",
       "            color:  #000000;\n",
       "        }#T_f564166a_4b6d_11ed_b35e_0242ac100011row6_col4{\n",
       "            background-color:  #3f53c6;\n",
       "            color:  #f1f1f1;\n",
       "        }#T_f564166a_4b6d_11ed_b35e_0242ac100011row7_col0{\n",
       "            background-color:  #90b2fe;\n",
       "            color:  #000000;\n",
       "        }#T_f564166a_4b6d_11ed_b35e_0242ac100011row7_col1{\n",
       "            background-color:  #e1dad6;\n",
       "            color:  #000000;\n",
       "        }#T_f564166a_4b6d_11ed_b35e_0242ac100011row7_col3{\n",
       "            background-color:  #b6cefa;\n",
       "            color:  #000000;\n",
       "        }#T_f564166a_4b6d_11ed_b35e_0242ac100011row7_col4{\n",
       "            background-color:  #e3d9d3;\n",
       "            color:  #000000;\n",
       "        }#T_f564166a_4b6d_11ed_b35e_0242ac100011row7_col5{\n",
       "            background-color:  #f7a688;\n",
       "            color:  #000000;\n",
       "        }#T_f564166a_4b6d_11ed_b35e_0242ac100011row7_col8{\n",
       "            background-color:  #f6a283;\n",
       "            color:  #000000;\n",
       "        }#T_f564166a_4b6d_11ed_b35e_0242ac100011row8_col1{\n",
       "            background-color:  #bbd1f8;\n",
       "            color:  #000000;\n",
       "        }#T_f564166a_4b6d_11ed_b35e_0242ac100011row8_col2{\n",
       "            background-color:  #f1ccb8;\n",
       "            color:  #000000;\n",
       "        }#T_f564166a_4b6d_11ed_b35e_0242ac100011row8_col4{\n",
       "            background-color:  #dcdddd;\n",
       "            color:  #000000;\n",
       "        }#T_f564166a_4b6d_11ed_b35e_0242ac100011row8_col5{\n",
       "            background-color:  #cad8ef;\n",
       "            color:  #000000;\n",
       "        }#T_f564166a_4b6d_11ed_b35e_0242ac100011row8_col6{\n",
       "            background-color:  #7a9df8;\n",
       "            color:  #000000;\n",
       "        }#T_f564166a_4b6d_11ed_b35e_0242ac100011row8_col7{\n",
       "            background-color:  #f18d6f;\n",
       "            color:  #000000;\n",
       "        }#T_f564166a_4b6d_11ed_b35e_0242ac100011row8_col9{\n",
       "            background-color:  #efcfbf;\n",
       "            color:  #000000;\n",
       "        }#T_f564166a_4b6d_11ed_b35e_0242ac100011row9_col0{\n",
       "            background-color:  #afcafc;\n",
       "            color:  #000000;\n",
       "        }#T_f564166a_4b6d_11ed_b35e_0242ac100011row9_col1{\n",
       "            background-color:  #c9d7f0;\n",
       "            color:  #000000;\n",
       "        }#T_f564166a_4b6d_11ed_b35e_0242ac100011row9_col2{\n",
       "            background-color:  #ead5c9;\n",
       "            color:  #000000;\n",
       "        }#T_f564166a_4b6d_11ed_b35e_0242ac100011row9_col3{\n",
       "            background-color:  #d8dce2;\n",
       "            color:  #000000;\n",
       "        }#T_f564166a_4b6d_11ed_b35e_0242ac100011row9_col4{\n",
       "            background-color:  #9fbfff;\n",
       "            color:  #000000;\n",
       "        }#T_f564166a_4b6d_11ed_b35e_0242ac100011row9_col5{\n",
       "            background-color:  #c3d5f4;\n",
       "            color:  #000000;\n",
       "        }#T_f564166a_4b6d_11ed_b35e_0242ac100011row9_col6{\n",
       "            background-color:  #93b5fe;\n",
       "            color:  #000000;\n",
       "        }#T_f564166a_4b6d_11ed_b35e_0242ac100011row9_col7{\n",
       "            background-color:  #f7b89c;\n",
       "            color:  #000000;\n",
       "        }#T_f564166a_4b6d_11ed_b35e_0242ac100011row9_col8{\n",
       "            background-color:  #f4c6af;\n",
       "            color:  #000000;\n",
       "        }</style><table id=\"T_f564166a_4b6d_11ed_b35e_0242ac100011\" ><thead>    <tr>        <th class=\"blank level0\" ></th>        <th class=\"col_heading level0 col0\" >age</th>        <th class=\"col_heading level0 col1\" >sex</th>        <th class=\"col_heading level0 col2\" >bmi</th>        <th class=\"col_heading level0 col3\" >bp</th>        <th class=\"col_heading level0 col4\" >s1</th>        <th class=\"col_heading level0 col5\" >s2</th>        <th class=\"col_heading level0 col6\" >s3</th>        <th class=\"col_heading level0 col7\" >s4</th>        <th class=\"col_heading level0 col8\" >s5</th>        <th class=\"col_heading level0 col9\" >s6</th>    </tr></thead><tbody>\n",
       "                <tr>\n",
       "                        <th id=\"T_f564166a_4b6d_11ed_b35e_0242ac100011level0_row0\" class=\"row_heading level0 row0\" >age</th>\n",
       "                        <td id=\"T_f564166a_4b6d_11ed_b35e_0242ac100011row0_col0\" class=\"data row0 col0\" >1.000000</td>\n",
       "                        <td id=\"T_f564166a_4b6d_11ed_b35e_0242ac100011row0_col1\" class=\"data row0 col1\" >0.173737</td>\n",
       "                        <td id=\"T_f564166a_4b6d_11ed_b35e_0242ac100011row0_col2\" class=\"data row0 col2\" >0.185085</td>\n",
       "                        <td id=\"T_f564166a_4b6d_11ed_b35e_0242ac100011row0_col3\" class=\"data row0 col3\" >0.335427</td>\n",
       "                        <td id=\"T_f564166a_4b6d_11ed_b35e_0242ac100011row0_col4\" class=\"data row0 col4\" >0.260061</td>\n",
       "                        <td id=\"T_f564166a_4b6d_11ed_b35e_0242ac100011row0_col5\" class=\"data row0 col5\" >0.219243</td>\n",
       "                        <td id=\"T_f564166a_4b6d_11ed_b35e_0242ac100011row0_col6\" class=\"data row0 col6\" >-0.075181</td>\n",
       "                        <td id=\"T_f564166a_4b6d_11ed_b35e_0242ac100011row0_col7\" class=\"data row0 col7\" >0.203841</td>\n",
       "                        <td id=\"T_f564166a_4b6d_11ed_b35e_0242ac100011row0_col8\" class=\"data row0 col8\" >0.270777</td>\n",
       "                        <td id=\"T_f564166a_4b6d_11ed_b35e_0242ac100011row0_col9\" class=\"data row0 col9\" >0.301731</td>\n",
       "            </tr>\n",
       "            <tr>\n",
       "                        <th id=\"T_f564166a_4b6d_11ed_b35e_0242ac100011level0_row1\" class=\"row_heading level0 row1\" >sex</th>\n",
       "                        <td id=\"T_f564166a_4b6d_11ed_b35e_0242ac100011row1_col0\" class=\"data row1 col0\" >0.173737</td>\n",
       "                        <td id=\"T_f564166a_4b6d_11ed_b35e_0242ac100011row1_col1\" class=\"data row1 col1\" >1.000000</td>\n",
       "                        <td id=\"T_f564166a_4b6d_11ed_b35e_0242ac100011row1_col2\" class=\"data row1 col2\" >0.088161</td>\n",
       "                        <td id=\"T_f564166a_4b6d_11ed_b35e_0242ac100011row1_col3\" class=\"data row1 col3\" >0.241013</td>\n",
       "                        <td id=\"T_f564166a_4b6d_11ed_b35e_0242ac100011row1_col4\" class=\"data row1 col4\" >0.035277</td>\n",
       "                        <td id=\"T_f564166a_4b6d_11ed_b35e_0242ac100011row1_col5\" class=\"data row1 col5\" >0.142637</td>\n",
       "                        <td id=\"T_f564166a_4b6d_11ed_b35e_0242ac100011row1_col6\" class=\"data row1 col6\" >-0.379090</td>\n",
       "                        <td id=\"T_f564166a_4b6d_11ed_b35e_0242ac100011row1_col7\" class=\"data row1 col7\" >0.332115</td>\n",
       "                        <td id=\"T_f564166a_4b6d_11ed_b35e_0242ac100011row1_col8\" class=\"data row1 col8\" >0.149918</td>\n",
       "                        <td id=\"T_f564166a_4b6d_11ed_b35e_0242ac100011row1_col9\" class=\"data row1 col9\" >0.208133</td>\n",
       "            </tr>\n",
       "            <tr>\n",
       "                        <th id=\"T_f564166a_4b6d_11ed_b35e_0242ac100011level0_row2\" class=\"row_heading level0 row2\" >bmi</th>\n",
       "                        <td id=\"T_f564166a_4b6d_11ed_b35e_0242ac100011row2_col0\" class=\"data row2 col0\" >0.185085</td>\n",
       "                        <td id=\"T_f564166a_4b6d_11ed_b35e_0242ac100011row2_col1\" class=\"data row2 col1\" >0.088161</td>\n",
       "                        <td id=\"T_f564166a_4b6d_11ed_b35e_0242ac100011row2_col2\" class=\"data row2 col2\" >1.000000</td>\n",
       "                        <td id=\"T_f564166a_4b6d_11ed_b35e_0242ac100011row2_col3\" class=\"data row2 col3\" >0.395415</td>\n",
       "                        <td id=\"T_f564166a_4b6d_11ed_b35e_0242ac100011row2_col4\" class=\"data row2 col4\" >0.249777</td>\n",
       "                        <td id=\"T_f564166a_4b6d_11ed_b35e_0242ac100011row2_col5\" class=\"data row2 col5\" >0.261170</td>\n",
       "                        <td id=\"T_f564166a_4b6d_11ed_b35e_0242ac100011row2_col6\" class=\"data row2 col6\" >-0.366811</td>\n",
       "                        <td id=\"T_f564166a_4b6d_11ed_b35e_0242ac100011row2_col7\" class=\"data row2 col7\" >0.413807</td>\n",
       "                        <td id=\"T_f564166a_4b6d_11ed_b35e_0242ac100011row2_col8\" class=\"data row2 col8\" >0.446159</td>\n",
       "                        <td id=\"T_f564166a_4b6d_11ed_b35e_0242ac100011row2_col9\" class=\"data row2 col9\" >0.388680</td>\n",
       "            </tr>\n",
       "            <tr>\n",
       "                        <th id=\"T_f564166a_4b6d_11ed_b35e_0242ac100011level0_row3\" class=\"row_heading level0 row3\" >bp</th>\n",
       "                        <td id=\"T_f564166a_4b6d_11ed_b35e_0242ac100011row3_col0\" class=\"data row3 col0\" >0.335427</td>\n",
       "                        <td id=\"T_f564166a_4b6d_11ed_b35e_0242ac100011row3_col1\" class=\"data row3 col1\" >0.241013</td>\n",
       "                        <td id=\"T_f564166a_4b6d_11ed_b35e_0242ac100011row3_col2\" class=\"data row3 col2\" >0.395415</td>\n",
       "                        <td id=\"T_f564166a_4b6d_11ed_b35e_0242ac100011row3_col3\" class=\"data row3 col3\" >1.000000</td>\n",
       "                        <td id=\"T_f564166a_4b6d_11ed_b35e_0242ac100011row3_col4\" class=\"data row3 col4\" >0.242470</td>\n",
       "                        <td id=\"T_f564166a_4b6d_11ed_b35e_0242ac100011row3_col5\" class=\"data row3 col5\" >0.185558</td>\n",
       "                        <td id=\"T_f564166a_4b6d_11ed_b35e_0242ac100011row3_col6\" class=\"data row3 col6\" >-0.178761</td>\n",
       "                        <td id=\"T_f564166a_4b6d_11ed_b35e_0242ac100011row3_col7\" class=\"data row3 col7\" >0.257653</td>\n",
       "                        <td id=\"T_f564166a_4b6d_11ed_b35e_0242ac100011row3_col8\" class=\"data row3 col8\" >0.393478</td>\n",
       "                        <td id=\"T_f564166a_4b6d_11ed_b35e_0242ac100011row3_col9\" class=\"data row3 col9\" >0.390429</td>\n",
       "            </tr>\n",
       "            <tr>\n",
       "                        <th id=\"T_f564166a_4b6d_11ed_b35e_0242ac100011level0_row4\" class=\"row_heading level0 row4\" >s1</th>\n",
       "                        <td id=\"T_f564166a_4b6d_11ed_b35e_0242ac100011row4_col0\" class=\"data row4 col0\" >0.260061</td>\n",
       "                        <td id=\"T_f564166a_4b6d_11ed_b35e_0242ac100011row4_col1\" class=\"data row4 col1\" >0.035277</td>\n",
       "                        <td id=\"T_f564166a_4b6d_11ed_b35e_0242ac100011row4_col2\" class=\"data row4 col2\" >0.249777</td>\n",
       "                        <td id=\"T_f564166a_4b6d_11ed_b35e_0242ac100011row4_col3\" class=\"data row4 col3\" >0.242470</td>\n",
       "                        <td id=\"T_f564166a_4b6d_11ed_b35e_0242ac100011row4_col4\" class=\"data row4 col4\" >1.000000</td>\n",
       "                        <td id=\"T_f564166a_4b6d_11ed_b35e_0242ac100011row4_col5\" class=\"data row4 col5\" >0.896663</td>\n",
       "                        <td id=\"T_f564166a_4b6d_11ed_b35e_0242ac100011row4_col6\" class=\"data row4 col6\" >0.051519</td>\n",
       "                        <td id=\"T_f564166a_4b6d_11ed_b35e_0242ac100011row4_col7\" class=\"data row4 col7\" >0.542207</td>\n",
       "                        <td id=\"T_f564166a_4b6d_11ed_b35e_0242ac100011row4_col8\" class=\"data row4 col8\" >0.515501</td>\n",
       "                        <td id=\"T_f564166a_4b6d_11ed_b35e_0242ac100011row4_col9\" class=\"data row4 col9\" >0.325717</td>\n",
       "            </tr>\n",
       "            <tr>\n",
       "                        <th id=\"T_f564166a_4b6d_11ed_b35e_0242ac100011level0_row5\" class=\"row_heading level0 row5\" >s2</th>\n",
       "                        <td id=\"T_f564166a_4b6d_11ed_b35e_0242ac100011row5_col0\" class=\"data row5 col0\" >0.219243</td>\n",
       "                        <td id=\"T_f564166a_4b6d_11ed_b35e_0242ac100011row5_col1\" class=\"data row5 col1\" >0.142637</td>\n",
       "                        <td id=\"T_f564166a_4b6d_11ed_b35e_0242ac100011row5_col2\" class=\"data row5 col2\" >0.261170</td>\n",
       "                        <td id=\"T_f564166a_4b6d_11ed_b35e_0242ac100011row5_col3\" class=\"data row5 col3\" >0.185558</td>\n",
       "                        <td id=\"T_f564166a_4b6d_11ed_b35e_0242ac100011row5_col4\" class=\"data row5 col4\" >0.896663</td>\n",
       "                        <td id=\"T_f564166a_4b6d_11ed_b35e_0242ac100011row5_col5\" class=\"data row5 col5\" >1.000000</td>\n",
       "                        <td id=\"T_f564166a_4b6d_11ed_b35e_0242ac100011row5_col6\" class=\"data row5 col6\" >-0.196455</td>\n",
       "                        <td id=\"T_f564166a_4b6d_11ed_b35e_0242ac100011row5_col7\" class=\"data row5 col7\" >0.659817</td>\n",
       "                        <td id=\"T_f564166a_4b6d_11ed_b35e_0242ac100011row5_col8\" class=\"data row5 col8\" >0.318353</td>\n",
       "                        <td id=\"T_f564166a_4b6d_11ed_b35e_0242ac100011row5_col9\" class=\"data row5 col9\" >0.290600</td>\n",
       "            </tr>\n",
       "            <tr>\n",
       "                        <th id=\"T_f564166a_4b6d_11ed_b35e_0242ac100011level0_row6\" class=\"row_heading level0 row6\" >s3</th>\n",
       "                        <td id=\"T_f564166a_4b6d_11ed_b35e_0242ac100011row6_col0\" class=\"data row6 col0\" >-0.075181</td>\n",
       "                        <td id=\"T_f564166a_4b6d_11ed_b35e_0242ac100011row6_col1\" class=\"data row6 col1\" >-0.379090</td>\n",
       "                        <td id=\"T_f564166a_4b6d_11ed_b35e_0242ac100011row6_col2\" class=\"data row6 col2\" >-0.366811</td>\n",
       "                        <td id=\"T_f564166a_4b6d_11ed_b35e_0242ac100011row6_col3\" class=\"data row6 col3\" >-0.178761</td>\n",
       "                        <td id=\"T_f564166a_4b6d_11ed_b35e_0242ac100011row6_col4\" class=\"data row6 col4\" >0.051519</td>\n",
       "                        <td id=\"T_f564166a_4b6d_11ed_b35e_0242ac100011row6_col5\" class=\"data row6 col5\" >-0.196455</td>\n",
       "                        <td id=\"T_f564166a_4b6d_11ed_b35e_0242ac100011row6_col6\" class=\"data row6 col6\" >1.000000</td>\n",
       "                        <td id=\"T_f564166a_4b6d_11ed_b35e_0242ac100011row6_col7\" class=\"data row6 col7\" >-0.738493</td>\n",
       "                        <td id=\"T_f564166a_4b6d_11ed_b35e_0242ac100011row6_col8\" class=\"data row6 col8\" >-0.398577</td>\n",
       "                        <td id=\"T_f564166a_4b6d_11ed_b35e_0242ac100011row6_col9\" class=\"data row6 col9\" >-0.273697</td>\n",
       "            </tr>\n",
       "            <tr>\n",
       "                        <th id=\"T_f564166a_4b6d_11ed_b35e_0242ac100011level0_row7\" class=\"row_heading level0 row7\" >s4</th>\n",
       "                        <td id=\"T_f564166a_4b6d_11ed_b35e_0242ac100011row7_col0\" class=\"data row7 col0\" >0.203841</td>\n",
       "                        <td id=\"T_f564166a_4b6d_11ed_b35e_0242ac100011row7_col1\" class=\"data row7 col1\" >0.332115</td>\n",
       "                        <td id=\"T_f564166a_4b6d_11ed_b35e_0242ac100011row7_col2\" class=\"data row7 col2\" >0.413807</td>\n",
       "                        <td id=\"T_f564166a_4b6d_11ed_b35e_0242ac100011row7_col3\" class=\"data row7 col3\" >0.257653</td>\n",
       "                        <td id=\"T_f564166a_4b6d_11ed_b35e_0242ac100011row7_col4\" class=\"data row7 col4\" >0.542207</td>\n",
       "                        <td id=\"T_f564166a_4b6d_11ed_b35e_0242ac100011row7_col5\" class=\"data row7 col5\" >0.659817</td>\n",
       "                        <td id=\"T_f564166a_4b6d_11ed_b35e_0242ac100011row7_col6\" class=\"data row7 col6\" >-0.738493</td>\n",
       "                        <td id=\"T_f564166a_4b6d_11ed_b35e_0242ac100011row7_col7\" class=\"data row7 col7\" >1.000000</td>\n",
       "                        <td id=\"T_f564166a_4b6d_11ed_b35e_0242ac100011row7_col8\" class=\"data row7 col8\" >0.617857</td>\n",
       "                        <td id=\"T_f564166a_4b6d_11ed_b35e_0242ac100011row7_col9\" class=\"data row7 col9\" >0.417212</td>\n",
       "            </tr>\n",
       "            <tr>\n",
       "                        <th id=\"T_f564166a_4b6d_11ed_b35e_0242ac100011level0_row8\" class=\"row_heading level0 row8\" >s5</th>\n",
       "                        <td id=\"T_f564166a_4b6d_11ed_b35e_0242ac100011row8_col0\" class=\"data row8 col0\" >0.270777</td>\n",
       "                        <td id=\"T_f564166a_4b6d_11ed_b35e_0242ac100011row8_col1\" class=\"data row8 col1\" >0.149918</td>\n",
       "                        <td id=\"T_f564166a_4b6d_11ed_b35e_0242ac100011row8_col2\" class=\"data row8 col2\" >0.446159</td>\n",
       "                        <td id=\"T_f564166a_4b6d_11ed_b35e_0242ac100011row8_col3\" class=\"data row8 col3\" >0.393478</td>\n",
       "                        <td id=\"T_f564166a_4b6d_11ed_b35e_0242ac100011row8_col4\" class=\"data row8 col4\" >0.515501</td>\n",
       "                        <td id=\"T_f564166a_4b6d_11ed_b35e_0242ac100011row8_col5\" class=\"data row8 col5\" >0.318353</td>\n",
       "                        <td id=\"T_f564166a_4b6d_11ed_b35e_0242ac100011row8_col6\" class=\"data row8 col6\" >-0.398577</td>\n",
       "                        <td id=\"T_f564166a_4b6d_11ed_b35e_0242ac100011row8_col7\" class=\"data row8 col7\" >0.617857</td>\n",
       "                        <td id=\"T_f564166a_4b6d_11ed_b35e_0242ac100011row8_col8\" class=\"data row8 col8\" >1.000000</td>\n",
       "                        <td id=\"T_f564166a_4b6d_11ed_b35e_0242ac100011row8_col9\" class=\"data row8 col9\" >0.464670</td>\n",
       "            </tr>\n",
       "            <tr>\n",
       "                        <th id=\"T_f564166a_4b6d_11ed_b35e_0242ac100011level0_row9\" class=\"row_heading level0 row9\" >s6</th>\n",
       "                        <td id=\"T_f564166a_4b6d_11ed_b35e_0242ac100011row9_col0\" class=\"data row9 col0\" >0.301731</td>\n",
       "                        <td id=\"T_f564166a_4b6d_11ed_b35e_0242ac100011row9_col1\" class=\"data row9 col1\" >0.208133</td>\n",
       "                        <td id=\"T_f564166a_4b6d_11ed_b35e_0242ac100011row9_col2\" class=\"data row9 col2\" >0.388680</td>\n",
       "                        <td id=\"T_f564166a_4b6d_11ed_b35e_0242ac100011row9_col3\" class=\"data row9 col3\" >0.390429</td>\n",
       "                        <td id=\"T_f564166a_4b6d_11ed_b35e_0242ac100011row9_col4\" class=\"data row9 col4\" >0.325717</td>\n",
       "                        <td id=\"T_f564166a_4b6d_11ed_b35e_0242ac100011row9_col5\" class=\"data row9 col5\" >0.290600</td>\n",
       "                        <td id=\"T_f564166a_4b6d_11ed_b35e_0242ac100011row9_col6\" class=\"data row9 col6\" >-0.273697</td>\n",
       "                        <td id=\"T_f564166a_4b6d_11ed_b35e_0242ac100011row9_col7\" class=\"data row9 col7\" >0.417212</td>\n",
       "                        <td id=\"T_f564166a_4b6d_11ed_b35e_0242ac100011row9_col8\" class=\"data row9 col8\" >0.464670</td>\n",
       "                        <td id=\"T_f564166a_4b6d_11ed_b35e_0242ac100011row9_col9\" class=\"data row9 col9\" >1.000000</td>\n",
       "            </tr>\n",
       "    </tbody></table>"
      ],
      "text/plain": [
       "<pandas.io.formats.style.Styler at 0x7fd48f256bd0>"
      ]
     },
     "execution_count": 38,
     "metadata": {},
     "output_type": "execute_result"
    }
   ],
   "source": [
    "X.corr().style.background_gradient(cmap='coolwarm')"
   ]
  },
  {
   "cell_type": "code",
   "execution_count": 41,
   "metadata": {},
   "outputs": [
    {
     "name": "stdout",
     "output_type": "stream",
     "text": [
      "The Best value of alpha is {'alpha': 0.04}\n",
      "The best score for the Ridge estimator is -2997.186793719345\n"
     ]
    }
   ],
   "source": [
    "from sklearn.linear_model import Ridge\n",
    "from sklearn.model_selection import GridSearchCV\n",
    "alpha_values={'alpha':[0.001,0.01,0.02,0.03,0.04, 0.05, 0.06, 0.08, 1, 2, 3, 5, 8, 10, 20, 50, 100]}\n",
    "gscv=GridSearchCV(Ridge(),alpha_values,scoring='neg_mean_squared_error',cv=10)\n",
    "print(\"The Best value of alpha is\", gscv.fit(X,y).best_params_)\n",
    "print(\"The best score for the Ridge estimator is\" ,gscv.fit(X,y).best_score_)"
   ]
  },
  {
   "cell_type": "code",
   "execution_count": 42,
   "metadata": {},
   "outputs": [
    {
     "data": {
      "image/png": "[encoded data removed]",
      "text/plain": [
       "<Figure size 720x432 with 1 Axes>"
      ]
     },
     "metadata": {
      "needs_background": "light"
     },
     "output_type": "display_data"
    }
   ],
   "source": [
    "best_ridge_model=Ridge(alpha=0.04)\n",
    "best_ridge_coeffs=best_ridge_model.fit(X,y).coef_\n",
    "plt.figure(figsize=(10,6))\n",
    "plt.plot(range(len(feature_names)),best_ridge_coeffs[0])\n",
    "plt.axhline(0,color='r',linestyle='solid')\n",
    "plt.xticks(range(len(feature_names)),feature_names,rotation=50)\n",
    "plt.title(\"Coefficients estimates from Ridge Regression\")\n",
    "plt.ylabel(\"coeffients\")\n",
    "plt.xlabel(\"features\")\n",
    "plt.show()\n",
    "               "
   ]
  },
  {
   "cell_type": "code",
   "execution_count": 43,
   "metadata": {},
   "outputs": [
    {
     "data": {
      "text/plain": [
       "array([[  -3.60964996, -224.32948213,  511.20371879,  313.55271527,\n",
       "        -161.53387594,  -19.89297365, -166.67979782,  113.95024636,\n",
       "         496.22227036,   77.44390618]])"
      ]
     },
     "execution_count": 43,
     "metadata": {},
     "output_type": "execute_result"
    }
   ],
   "source": [
    "best_ridge_coeffs"
   ]
  },
  {
   "cell_type": "markdown",
   "metadata": {},
   "source": [
    "LASSO Regression Regularization Techniques"
   ]
  },
  {
   "cell_type": "code",
   "execution_count": 44,
   "metadata": {},
   "outputs": [
    {
     "name": "stdout",
     "output_type": "stream",
     "text": [
      "The best value of alpha is  {'alpha': 0.06}\n",
      "The best score for the best Lasso estimator is  -2987.4180821246437\n"
     ]
    }
   ],
   "source": [
    "from sklearn.linear_model import Lasso\n",
    "from sklearn.model_selection import GridSearchCV\n",
    "alpha_values={'alpha':[0.001, 0.01,0.02,0.03,0.04, 0.05, 0.06,0.07, 0.08, 1, 2, 3, 5, 8, 10, 20, 50, 100]}\n",
    "lasso=GridSearchCV(Lasso(),alpha_values,scoring='neg_mean_squared_error',cv=10)\n",
    "print(\"The best value of alpha is \",lasso.fit(X,y).best_params_)\n",
    "print(\"The best score for the best Lasso estimator is \",lasso.fit(X,y).best_score_)"
   ]
  },
  {
   "cell_type": "code",
   "execution_count": 48,
   "metadata": {},
   "outputs": [
    {
     "data": {
      "image/png": "[encoded data removed]",
      "text/plain": [
       "<Figure size 720x432 with 1 Axes>"
      ]
     },
     "metadata": {
      "needs_background": "light"
     },
     "output_type": "display_data"
    }
   ],
   "source": [
    "best_lasso_model=Lasso(alpha=0.06)\n",
    "best_lasso_coeffs=best_lasso_model.fit(X,y).coef_\n",
    "\n",
    "plt.figure(figsize=(10,6))\n",
    "plt.plot(range(len(feature_names)),best_lasso_coeffs)\n",
    "\n",
    "plt.axhline(0,color='r',linestyle='solid')\n",
    "plt.xticks(range(len(feature_names)),feature_names,rotation=50)\n",
    "plt.title(\"Coefficient estimates from Lasso Regrssion\")\n",
    "plt.ylabel(\"coefficients\")\n",
    "plt.xlabel(\"features\")\n",
    "plt.show()"
   ]
  },
  {
   "cell_type": "code",
   "execution_count": 49,
   "metadata": {},
   "outputs": [
    {
     "data": {
      "text/plain": [
       "array([  -0.        , -186.30924508,  520.89411638,  291.19604139,\n",
       "        -90.06855506,   -0.        , -220.20726443,    0.        ,\n",
       "        506.42221212,   49.07461404])"
      ]
     },
     "execution_count": 49,
     "metadata": {},
     "output_type": "execute_result"
    }
   ],
   "source": [
    "best_lasso_coeffs"
   ]
  },
  {
   "cell_type": "code",
   "execution_count": 52,
   "metadata": {},
   "outputs": [],
   "source": [
    "from sklearn.linear_model import ElasticNet\n",
    "alpha_values={'alpha':[0.00005,0.0005,0.001, 0.01, 0.05, 0.06, 0.08, 1, 2, 3, 5, 8, 10, 20, 50, 100],\n",
    " 'l1_ratio':[0,0.1,0.2,0.3,0.4,0.5,0.6,0.7,0.8,0.9, 0.95,0.99,1]}\n",
    "elastic=GridSearchCV(ElasticNet(),alpha_values,scoring='neg_mean_squared_error',cv=10)\n"
   ]
  },
  {
   "cell_type": "code",
   "execution_count": 53,
   "metadata": {},
   "outputs": [
    {
     "data": {
      "text/plain": [
       "{'alpha': 0.06, 'l1_ratio': 1}"
      ]
     },
     "execution_count": 53,
     "metadata": {},
     "output_type": "execute_result"
    }
   ],
   "source": [
    "import warnings\n",
    "warnings.filterwarnings('ignore')\n",
    "elastic.fit(X,y).best_params_"
   ]
  },
  {
   "cell_type": "code",
   "execution_count": 54,
   "metadata": {},
   "outputs": [
    {
     "data": {
      "text/plain": [
       "-2987.4180821246437"
      ]
     },
     "execution_count": 54,
     "metadata": {},
     "output_type": "execute_result"
    }
   ],
   "source": [
    "import warnings\n",
    "warnings.filterwarnings('ignore')\n",
    "elastic.fit(X,y).best_score_"
   ]
  },
  {
   "cell_type": "code",
   "execution_count": 56,
   "metadata": {},
   "outputs": [
    {
     "data": {
      "text/plain": [
       "array([  -0.        , -186.30924508,  520.89411638,  291.19604139,\n",
       "        -90.06855506,   -0.        , -220.20726443,    0.        ,\n",
       "        506.42221212,   49.07461404])"
      ]
     },
     "execution_count": 56,
     "metadata": {},
     "output_type": "execute_result"
    }
   ],
   "source": [
    "best_elastic_model=ElasticNet(alpha=0.06,l1_ratio=1)\n",
    "best_elastic_coeffs=best_elastic_model.fit(X,y).coef_\n",
    "best_elastic_coeffs"
   ]
  },
  {
   "cell_type": "markdown",
   "metadata": {},
   "source": [
    "Compare the Coefficient estimates obtained from "
   ]
  },
  {
   "cell_type": "code",
   "execution_count": 61,
   "metadata": {},
   "outputs": [
    {
     "data": {
      "text/html": [
       "<style  type=\"text/css\" >\n",
       "#T_892a9cc2_4b76_11ed_b35e_0242ac100011row0_col0,#T_892a9cc2_4b76_11ed_b35e_0242ac100011row0_col1,#T_892a9cc2_4b76_11ed_b35e_0242ac100011row1_col0,#T_892a9cc2_4b76_11ed_b35e_0242ac100011row1_col1,#T_892a9cc2_4b76_11ed_b35e_0242ac100011row1_col2,#T_892a9cc2_4b76_11ed_b35e_0242ac100011row1_col3,#T_892a9cc2_4b76_11ed_b35e_0242ac100011row2_col0,#T_892a9cc2_4b76_11ed_b35e_0242ac100011row2_col1,#T_892a9cc2_4b76_11ed_b35e_0242ac100011row2_col2,#T_892a9cc2_4b76_11ed_b35e_0242ac100011row2_col3,#T_892a9cc2_4b76_11ed_b35e_0242ac100011row3_col0,#T_892a9cc2_4b76_11ed_b35e_0242ac100011row3_col1,#T_892a9cc2_4b76_11ed_b35e_0242ac100011row3_col2,#T_892a9cc2_4b76_11ed_b35e_0242ac100011row3_col3,#T_892a9cc2_4b76_11ed_b35e_0242ac100011row4_col0,#T_892a9cc2_4b76_11ed_b35e_0242ac100011row4_col1,#T_892a9cc2_4b76_11ed_b35e_0242ac100011row4_col2,#T_892a9cc2_4b76_11ed_b35e_0242ac100011row4_col3,#T_892a9cc2_4b76_11ed_b35e_0242ac100011row5_col0,#T_892a9cc2_4b76_11ed_b35e_0242ac100011row5_col1,#T_892a9cc2_4b76_11ed_b35e_0242ac100011row6_col0,#T_892a9cc2_4b76_11ed_b35e_0242ac100011row6_col1,#T_892a9cc2_4b76_11ed_b35e_0242ac100011row6_col2,#T_892a9cc2_4b76_11ed_b35e_0242ac100011row6_col3,#T_892a9cc2_4b76_11ed_b35e_0242ac100011row7_col0,#T_892a9cc2_4b76_11ed_b35e_0242ac100011row7_col1,#T_892a9cc2_4b76_11ed_b35e_0242ac100011row8_col0,#T_892a9cc2_4b76_11ed_b35e_0242ac100011row8_col1,#T_892a9cc2_4b76_11ed_b35e_0242ac100011row8_col2,#T_892a9cc2_4b76_11ed_b35e_0242ac100011row8_col3,#T_892a9cc2_4b76_11ed_b35e_0242ac100011row9_col0,#T_892a9cc2_4b76_11ed_b35e_0242ac100011row9_col1,#T_892a9cc2_4b76_11ed_b35e_0242ac100011row9_col2,#T_892a9cc2_4b76_11ed_b35e_0242ac100011row9_col3{\n",
       "            color:  black;\n",
       "        }#T_892a9cc2_4b76_11ed_b35e_0242ac100011row0_col2,#T_892a9cc2_4b76_11ed_b35e_0242ac100011row0_col3,#T_892a9cc2_4b76_11ed_b35e_0242ac100011row5_col2,#T_892a9cc2_4b76_11ed_b35e_0242ac100011row5_col3,#T_892a9cc2_4b76_11ed_b35e_0242ac100011row7_col2,#T_892a9cc2_4b76_11ed_b35e_0242ac100011row7_col3{\n",
       "            color:  red;\n",
       "        }</style><table id=\"T_892a9cc2_4b76_11ed_b35e_0242ac100011\" ><thead>    <tr>        <th class=\"blank level0\" ></th>        <th class=\"col_heading level0 col0\" >without_regularization</th>        <th class=\"col_heading level0 col1\" >Ridge</th>        <th class=\"col_heading level0 col2\" >Lasso</th>        <th class=\"col_heading level0 col3\" >Elastic</th>    </tr></thead><tbody>\n",
       "                <tr>\n",
       "                        <th id=\"T_892a9cc2_4b76_11ed_b35e_0242ac100011level0_row0\" class=\"row_heading level0 row0\" >age</th>\n",
       "                        <td id=\"T_892a9cc2_4b76_11ed_b35e_0242ac100011row0_col0\" class=\"data row0 col0\" >-10.012198</td>\n",
       "                        <td id=\"T_892a9cc2_4b76_11ed_b35e_0242ac100011row0_col1\" class=\"data row0 col1\" >-3.609650</td>\n",
       "                        <td id=\"T_892a9cc2_4b76_11ed_b35e_0242ac100011row0_col2\" class=\"data row0 col2\" >-0.000000</td>\n",
       "                        <td id=\"T_892a9cc2_4b76_11ed_b35e_0242ac100011row0_col3\" class=\"data row0 col3\" >-0.000000</td>\n",
       "            </tr>\n",
       "            <tr>\n",
       "                        <th id=\"T_892a9cc2_4b76_11ed_b35e_0242ac100011level0_row1\" class=\"row_heading level0 row1\" >sex</th>\n",
       "                        <td id=\"T_892a9cc2_4b76_11ed_b35e_0242ac100011row1_col0\" class=\"data row1 col0\" >-239.819089</td>\n",
       "                        <td id=\"T_892a9cc2_4b76_11ed_b35e_0242ac100011row1_col1\" class=\"data row1 col1\" >-224.329482</td>\n",
       "                        <td id=\"T_892a9cc2_4b76_11ed_b35e_0242ac100011row1_col2\" class=\"data row1 col2\" >-186.309245</td>\n",
       "                        <td id=\"T_892a9cc2_4b76_11ed_b35e_0242ac100011row1_col3\" class=\"data row1 col3\" >-186.309245</td>\n",
       "            </tr>\n",
       "            <tr>\n",
       "                        <th id=\"T_892a9cc2_4b76_11ed_b35e_0242ac100011level0_row2\" class=\"row_heading level0 row2\" >bmi</th>\n",
       "                        <td id=\"T_892a9cc2_4b76_11ed_b35e_0242ac100011row2_col0\" class=\"data row2 col0\" >519.839787</td>\n",
       "                        <td id=\"T_892a9cc2_4b76_11ed_b35e_0242ac100011row2_col1\" class=\"data row2 col1\" >511.203719</td>\n",
       "                        <td id=\"T_892a9cc2_4b76_11ed_b35e_0242ac100011row2_col2\" class=\"data row2 col2\" >520.894116</td>\n",
       "                        <td id=\"T_892a9cc2_4b76_11ed_b35e_0242ac100011row2_col3\" class=\"data row2 col3\" >520.894116</td>\n",
       "            </tr>\n",
       "            <tr>\n",
       "                        <th id=\"T_892a9cc2_4b76_11ed_b35e_0242ac100011level0_row3\" class=\"row_heading level0 row3\" >bp</th>\n",
       "                        <td id=\"T_892a9cc2_4b76_11ed_b35e_0242ac100011row3_col0\" class=\"data row3 col0\" >324.390428</td>\n",
       "                        <td id=\"T_892a9cc2_4b76_11ed_b35e_0242ac100011row3_col1\" class=\"data row3 col1\" >313.552715</td>\n",
       "                        <td id=\"T_892a9cc2_4b76_11ed_b35e_0242ac100011row3_col2\" class=\"data row3 col2\" >291.196041</td>\n",
       "                        <td id=\"T_892a9cc2_4b76_11ed_b35e_0242ac100011row3_col3\" class=\"data row3 col3\" >291.196041</td>\n",
       "            </tr>\n",
       "            <tr>\n",
       "                        <th id=\"T_892a9cc2_4b76_11ed_b35e_0242ac100011level0_row4\" class=\"row_heading level0 row4\" >s1</th>\n",
       "                        <td id=\"T_892a9cc2_4b76_11ed_b35e_0242ac100011row4_col0\" class=\"data row4 col0\" >-792.184162</td>\n",
       "                        <td id=\"T_892a9cc2_4b76_11ed_b35e_0242ac100011row4_col1\" class=\"data row4 col1\" >-161.533876</td>\n",
       "                        <td id=\"T_892a9cc2_4b76_11ed_b35e_0242ac100011row4_col2\" class=\"data row4 col2\" >-90.068555</td>\n",
       "                        <td id=\"T_892a9cc2_4b76_11ed_b35e_0242ac100011row4_col3\" class=\"data row4 col3\" >-90.068555</td>\n",
       "            </tr>\n",
       "            <tr>\n",
       "                        <th id=\"T_892a9cc2_4b76_11ed_b35e_0242ac100011level0_row5\" class=\"row_heading level0 row5\" >s2</th>\n",
       "                        <td id=\"T_892a9cc2_4b76_11ed_b35e_0242ac100011row5_col0\" class=\"data row5 col0\" >476.745838</td>\n",
       "                        <td id=\"T_892a9cc2_4b76_11ed_b35e_0242ac100011row5_col1\" class=\"data row5 col1\" >-19.892974</td>\n",
       "                        <td id=\"T_892a9cc2_4b76_11ed_b35e_0242ac100011row5_col2\" class=\"data row5 col2\" >-0.000000</td>\n",
       "                        <td id=\"T_892a9cc2_4b76_11ed_b35e_0242ac100011row5_col3\" class=\"data row5 col3\" >-0.000000</td>\n",
       "            </tr>\n",
       "            <tr>\n",
       "                        <th id=\"T_892a9cc2_4b76_11ed_b35e_0242ac100011level0_row6\" class=\"row_heading level0 row6\" >s3</th>\n",
       "                        <td id=\"T_892a9cc2_4b76_11ed_b35e_0242ac100011row6_col0\" class=\"data row6 col0\" >101.044570</td>\n",
       "                        <td id=\"T_892a9cc2_4b76_11ed_b35e_0242ac100011row6_col1\" class=\"data row6 col1\" >-166.679798</td>\n",
       "                        <td id=\"T_892a9cc2_4b76_11ed_b35e_0242ac100011row6_col2\" class=\"data row6 col2\" >-220.207264</td>\n",
       "                        <td id=\"T_892a9cc2_4b76_11ed_b35e_0242ac100011row6_col3\" class=\"data row6 col3\" >-220.207264</td>\n",
       "            </tr>\n",
       "            <tr>\n",
       "                        <th id=\"T_892a9cc2_4b76_11ed_b35e_0242ac100011level0_row7\" class=\"row_heading level0 row7\" >s4</th>\n",
       "                        <td id=\"T_892a9cc2_4b76_11ed_b35e_0242ac100011row7_col0\" class=\"data row7 col0\" >177.064176</td>\n",
       "                        <td id=\"T_892a9cc2_4b76_11ed_b35e_0242ac100011row7_col1\" class=\"data row7 col1\" >113.950246</td>\n",
       "                        <td id=\"T_892a9cc2_4b76_11ed_b35e_0242ac100011row7_col2\" class=\"data row7 col2\" >0.000000</td>\n",
       "                        <td id=\"T_892a9cc2_4b76_11ed_b35e_0242ac100011row7_col3\" class=\"data row7 col3\" >0.000000</td>\n",
       "            </tr>\n",
       "            <tr>\n",
       "                        <th id=\"T_892a9cc2_4b76_11ed_b35e_0242ac100011level0_row8\" class=\"row_heading level0 row8\" >s5</th>\n",
       "                        <td id=\"T_892a9cc2_4b76_11ed_b35e_0242ac100011row8_col0\" class=\"data row8 col0\" >751.279321</td>\n",
       "                        <td id=\"T_892a9cc2_4b76_11ed_b35e_0242ac100011row8_col1\" class=\"data row8 col1\" >496.222270</td>\n",
       "                        <td id=\"T_892a9cc2_4b76_11ed_b35e_0242ac100011row8_col2\" class=\"data row8 col2\" >506.422212</td>\n",
       "                        <td id=\"T_892a9cc2_4b76_11ed_b35e_0242ac100011row8_col3\" class=\"data row8 col3\" >506.422212</td>\n",
       "            </tr>\n",
       "            <tr>\n",
       "                        <th id=\"T_892a9cc2_4b76_11ed_b35e_0242ac100011level0_row9\" class=\"row_heading level0 row9\" >s6</th>\n",
       "                        <td id=\"T_892a9cc2_4b76_11ed_b35e_0242ac100011row9_col0\" class=\"data row9 col0\" >67.625386</td>\n",
       "                        <td id=\"T_892a9cc2_4b76_11ed_b35e_0242ac100011row9_col1\" class=\"data row9 col1\" >77.443906</td>\n",
       "                        <td id=\"T_892a9cc2_4b76_11ed_b35e_0242ac100011row9_col2\" class=\"data row9 col2\" >49.074614</td>\n",
       "                        <td id=\"T_892a9cc2_4b76_11ed_b35e_0242ac100011row9_col3\" class=\"data row9 col3\" >49.074614</td>\n",
       "            </tr>\n",
       "    </tbody></table>"
      ],
      "text/plain": [
       "<pandas.io.formats.style.Styler at 0x7fd4cea7f0d0>"
      ]
     },
     "execution_count": 61,
     "metadata": {},
     "output_type": "execute_result"
    }
   ],
   "source": [
    "comparing_models=pd.DataFrame({'without_regularization':multiple_linear_coeffs,\n",
    "                               'Ridge':best_ridge_coeffs[0],\n",
    "                               'Lasso':best_lasso_coeffs,\n",
    "                               'Elastic':best_elastic_coeffs},\n",
    "                              index=feature_names)\n",
    "def color_red_for_zero(value):\n",
    "    color='red' if value == 0 else 'black'\n",
    "    return 'color: %s' % color\n",
    "comparing_models=comparing_models.style.applymap(color_red_for_zero)\n",
    "comparing_models"
   ]
  },
  {
   "cell_type": "code",
   "execution_count": 63,
   "metadata": {},
   "outputs": [
    {
     "ename": "SyntaxError",
     "evalue": "invalid syntax (<ipython-input-63-c7824f3bd416>, line 6)",
     "output_type": "error",
     "traceback": [
      "\u001b[0;36m  File \u001b[0;32m\"<ipython-input-63-c7824f3bd416>\"\u001b[0;36m, line \u001b[0;32m6\u001b[0m\n\u001b[0;31m    plt.axhline(0,color,='r',linestyle='solid')\u001b[0m\n\u001b[0m                        ^\u001b[0m\n\u001b[0;31mSyntaxError\u001b[0m\u001b[0;31m:\u001b[0m invalid syntax\n"
     ]
    }
   ],
   "source": [
    "comparing_models_new=pd.DataFrame({'without_regularization':multiple_linear_coeffs,\n",
    "                                   'Ridge':best_ridge_coeffs[0],\n",
    "                                   'Lasso':best_lasso_coeffs},\n",
    "                                  index=feature_names)\n",
    "comparing_models_new.plot(figsize(10,6))\n",
    "plt.axhline(0,color,='r',linestyle='solid')\n",
    "plt.title(\"Coefficients for Linear , Ridge and Lasso Regrssion \")\n",
    "plt.xlabel(\"coefficients\")\n",
    "plt.xlab"
   ]
  },
  {
   "cell_type": "code",
   "execution_count": null,
   "metadata": {},
   "outputs": [],
   "source": []
  }
 ],
 "metadata": {
  "kernelspec": {
   "display_name": "Python 3",
   "language": "python",
   "name": "python3"
  },
  "language_info": {
   "codemirror_mode": {
    "name": "ipython",
    "version": 3
   },
   "file_extension": ".py",
   "mimetype": "text/x-python",
   "name": "python",
   "nbconvert_exporter": "python",
   "pygments_lexer": "ipython3",
   "version": "3.7.6"
  }
 },
 "nbformat": 4,
 "nbformat_minor": 4
}
